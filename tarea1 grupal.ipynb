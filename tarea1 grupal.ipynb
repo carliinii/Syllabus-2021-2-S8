{
  "nbformat": 4,
  "nbformat_minor": 0,
  "metadata": {
    "colab": {
      "name": "Copia de tarea_01.ipynb",
      "provenance": [],
      "collapsed_sections": [],
      "include_colab_link": true
    },
    "kernelspec": {
      "display_name": "Python 3",
      "language": "python",
      "name": "python3"
    },
    "language_info": {
      "codemirror_mode": {
        "name": "ipython",
        "version": 3
      },
      "file_extension": ".py",
      "mimetype": "text/x-python",
      "name": "python",
      "nbconvert_exporter": "python",
      "pygments_lexer": "ipython3",
      "version": "3.9.5"
    }
  },
  "cells": [
    {
      "cell_type": "markdown",
      "metadata": {
        "id": "view-in-github",
        "colab_type": "text"
      },
      "source": [
        "<a href=\"https://colab.research.google.com/github/carliinii/Syllabus-2021-2-S8/blob/main/tarea1%20grupal.ipynb\" target=\"_parent\"><img src=\"https://colab.research.google.com/assets/colab-badge.svg\" alt=\"Open In Colab\"/></a>"
      ]
    },
    {
      "cell_type": "markdown",
      "metadata": {
        "id": "gjQEpy3Pj-Bn"
      },
      "source": [
        "# Fundamentos de Ciencias de Datos\n",
        "\n",
        "*Esta tarea tiene dos partes. Una parte en parejas y otra individual. La parte en parejas se encuentra en este cuaderno de Python. Luego, cada uno de los integrantes de la pareja debe tomar la sección A o la sección B, y cada integrante debe realizar solamente la sección de la tarea que escogió. Estas secciones se encuentran en los archivos **tarea_01-A.ipynb** y **tarea_01-B.ipynb**, respectivamente.*\n",
        "\n",
        "## Tarea 1 (Parte Grupal)\n",
        "\n",
        "### Objetivos\n",
        "\n",
        "1. Familiarización con Python en el contexto de Ciencias de Datos\n",
        "2. Manejo de conjuntos de datos utilizando funciones propias de Pandas\n",
        "\n",
        "### Metodología\n",
        "\n",
        "Deberás completar este cuaderno de python, siguiendo las instrucciones contenidas en él. Puedes utilizar contenido que encuentre en internet siempre y cuando lo referencies a través de un comentario. Por ejemplo:\n",
        "\n",
        ">```Python\n",
        "># código para abrir archivo obtenido desde  https://uniwebsidad.com/libros/algoritmos-python/capitulo-11\n",
        ">archivo = open(\"archivo.txt\")\n",
        ">```\n",
        "\n",
        "No olvides poner nombres representativos a tus variables. Caso contrario se verá reflejado en una penalización de tu nota.\n",
        "\n",
        "### Conjuntos de Datos\n",
        "\n",
        "Se le entregan 4 conjuntos de datos: codigos.csv, datos_comunas.csv, presupuesto_2019.csv y poblacion.csv. \n",
        "\n",
        "#### codigos.csv\n",
        "\n",
        " | columna | descripción |\n",
        " | --- | :---: |\n",
        " | Código Región | **Entero**: Identificador único para cada región. |\n",
        " | Nombre Región | **String**: Nombre de la región. |\n",
        " | Abreviatura Región | **String**: Abreviatura (en letras) o nombre corto de la región.  |\n",
        " | Código Provincia | **Entero**: Identificador único para cada provincia. |\n",
        " | Nombre Provincia | **String**: Nombre de la provincia. |\n",
        " | Código Comuna 2018 | **Entero**: Identificador único para cada comuna. |\n",
        " | Nombre Comuna | **String**: Nombre de la comuna. |\n",
        "\n",
        " #### datos_comunas.csv\n",
        "\n",
        " | columna | descripción |\n",
        " | --- | :---: |\n",
        " | id | **Entero**: Identificador único para cada comuna. Mismo identificador que en **codigos.csv**. |\n",
        " | metros_plaza | **Entero**: Cantidad de metros de plaza que tiene la comuna. |\n",
        " | metros_parque | **Entero**: Cantidad de metros de parque que tiene la comuna.  |\n",
        " | personas_trabaja | **Entero**: Número de personas que trabaja en la municipalidad de la comuna. |\n",
        "\n",
        " #### presupuesto_2019.csv\n",
        "\n",
        " | columna | descripción |\n",
        " | --- | :---: |\n",
        " | CODIGO | **Entero**: Identificador único para cada comuna. Mismo identificador que en **codigos.csv**. |\n",
        " | MUNICIPIO | **String**: Nombre de la comuna. |\n",
        " | PRESUPUESTO | **Entero**: Presupuesto destinado a la comuna.  |\n",
        "\n",
        " **Observación**: en la columna `PRESUPUESTO`, hay datos que están como \"no recepcionados. Eso puede producir que los análisis fallen, por lo que se recomienda limpiar los datos antes.\n",
        "\n",
        " #### poblacion.csv\n",
        "\n",
        " | columna | descripción |\n",
        " | --- | :---: |\n",
        " | CODIGO | **Entero**: Identificador único para cada comuna. Mismo identificador que en **codigos.csv**. |\n",
        " | MUNICIPIO | **String**: Nombre de la comuna. |\n",
        " | POBLACIÓN | **Entero**: Número de personas que vive en la comuna.  |\n",
        "\n"
      ]
    },
    {
      "cell_type": "markdown",
      "metadata": {
        "id": "FZs3HWKJ3E8q"
      },
      "source": [
        "## Integrantes\n",
        "\n",
        "Por favor, llenar acá el nombre de los integrantes de la pareja, junto a la asignación de las consultas de la sección A y la sección B.\n",
        "\n",
        "- **Integrante 1**:\n",
        "- **Integrante 2**:\n",
        "- **Integrante que realiza la sección A**:\n",
        "- **Integrante que realiza la sección B**:"
      ]
    },
    {
      "cell_type": "markdown",
      "metadata": {
        "id": "n6ZbtVm5j-Br"
      },
      "source": [
        "## Recomendaciones\n",
        "\n",
        "Primero, deberías importar en la siguiente celda **TODOS** los módulos de Python necesarios para la correcta ejecución de su tarea."
      ]
    },
    {
      "cell_type": "code",
      "metadata": {
        "id": "FHgxHVAGj-Bs"
      },
      "source": [
        "import pandas as pd\n",
        "import numpy as np"
      ],
      "execution_count": 16,
      "outputs": []
    },
    {
      "cell_type": "markdown",
      "metadata": {
        "id": "wKqzJDO7j-Bt"
      },
      "source": [
        "Luego, deberías guardar en una (o varias) variable(s) TODOS los sets de datos que utilizarás en la tarea."
      ]
    },
    {
      "cell_type": "code",
      "metadata": {
        "id": "cfqGDbGyj-Bu"
      },
      "source": [
        "df_codigos= pd.read_csv(\"codigos.csv\", sep=\";\")\n",
        "df_datos_comunas= pd.read_csv(\"datos_comunas.csv\")\n",
        "df_presupuesto_2019= pd.read_csv(\"presupuesto_2019.csv\", sep=\";\")\n",
        "df_poblacion= pd.read_csv(\"poblacion.csv\", sep=\";\")"
      ],
      "execution_count": 17,
      "outputs": []
    },
    {
      "cell_type": "markdown",
      "metadata": {
        "id": "wAw8r7Oaj-Bu"
      },
      "source": [
        "Utilice las variables previamente guardadas para mostrar parte de la información de todos los conjuntos de datos. Vale decir, si usted creó dos variables, cada una con un conjunto de datos diferente, muestre parte de los dos conjuntos de datos. Esto te ayudará a entender mejor lo que contiene cada fuente de datos."
      ]
    },
    {
      "cell_type": "code",
      "metadata": {
        "id": "jjuZtQEBj-Bu"
      },
      "source": [
        "#Escriba su código aquí\n",
        "# hay que sacarle el \"#\" a la variable que se desee visualziar porque solo proyecta una por celda\n",
        "\n",
        "#         Codigos         #\n",
        "\n",
        "#df_codigos\n",
        "#df_codigos.sample(10)\n",
        "#df_codigos.describe()\n",
        "#df_codigos.info()\n",
        "#df_codigos.columns\n",
        "\n",
        "#        Datos Comuna     #\n",
        "\n",
        "#df_datoscomunas\n",
        "#df_datoscomunas.sample(10)\n",
        "#df_datoscomunas.describe()\n",
        "#df_datoscomunas.info()\n",
        "#df_datoscomunas.columns\n",
        "\n",
        "#      Poblacion          #\n",
        "\n",
        "#df_poblacion\n",
        "#df_poblacion.sample(10)\n",
        "#df_poblacion.describe()\n",
        "#df_poblacion.info()\n",
        "#df_poblacion.columns\n",
        "\n",
        "#      Presupuesto        #\n",
        "\n",
        "#df_presupuesto\n",
        "#df_presupuesto.sample(10)\n",
        "#df_presupuesto.describe()\n",
        "#df_presupuesto.info()\n",
        "#df_presupuesto.columns"
      ],
      "execution_count": null,
      "outputs": []
    },
    {
      "cell_type": "markdown",
      "metadata": {
        "id": "sMS6UG3Tj-Bv"
      },
      "source": [
        "Además, si necesitas hacer algún pre-procesamiento **COMÚN** a todas sus futuras respuestas, deberías hacerlo en la siguiente celda"
      ]
    },
    {
      "cell_type": "code",
      "metadata": {
        "id": "D1Vi9aDgj-Bw"
      },
      "source": [
        "#Escriba su código aquí"
      ],
      "execution_count": null,
      "outputs": []
    },
    {
      "cell_type": "markdown",
      "metadata": {
        "id": "EygTQ9kxj-Bw"
      },
      "source": [
        "## Actividad\n",
        "\n",
        "### Parte grupal \n",
        "\n",
        "Utilizando los datos previamente guardados en variables, conteste (o genere) las respuestas a las siguiente consultas (enunciados):\n",
        "\n",
        "1. Genera y muestre un Dataframe que contenga solamente las siguientes columnas: Nombre Región, Nombre Provincia, Nombre Comuna\n",
        "2. Genera y muestre un Dataframe que contenga solamente las siguientes columnas: Nombre Región, Nombre Provincia, Nombre Comuna, metros_plaza\n",
        "3. ¿Cuántos metros de plaza tiene CADA región?\n",
        "4. ¿Cuál es la región con la mayor cantidad de metros de plaza?\n",
        "\n",
        "Ahora, incorporaremos los datos de presupuesto y de población. En base a esto, contesta las siguientes preguntas:\n",
        "\n",
        "5. Genera un dataframe que contenga las siguientes columnas: Nombre comuna, Presupuesto, Población.\n",
        "6. Entrega la población de cada región.\n",
        "7. Entrega la población de cada provincia\n",
        "\n",
        "### Parte Individual\n",
        "\n",
        "**Completar en los archivos correspondientes. Cada integrante del grupo resolverá uno de los archivos.**\n",
        "\n",
        "## Detalles académicos\n",
        "\n",
        "La nota de cada integrante de la pareja será calculado como $0.5 \\cdot \\text{Parte Grupal} + 0.5 \\cdot \\text{Parte Individual} $, donde la Parte Grupal corresponde a las 7 primeras consultas, y la parte individual a la sección respectiva elegida por cada integrante. **La tarea debe ser subida al buzón correspondiente de Webcursos hasta el 23 de Agosto a las 23:59 horas**.\n",
        "\n",
        "**Importante**: Recuerde que debe generar el código que responda las preguntas. Por ejemplo para la pregunta 4, debe entregar el código que muestre por pantalla la región con la mayor cantidad de metros de plaza. Si entrega sólo el dataframe ordenado su respuesta **no estará completamente correcta**."
      ]
    },
    {
      "cell_type": "markdown",
      "metadata": {
        "id": "E8t9AzJQj-Bx"
      },
      "source": [
        "## Pregunta 1"
      ]
    },
    {
      "cell_type": "code",
      "metadata": {
        "id": "x_9UaZ_jj-By",
        "colab": {
          "base_uri": "https://localhost:8080/",
          "height": 419
        },
        "outputId": "2422d54a-7693-41c9-c511-208b4c8ba18c"
      },
      "source": [
        "frame = pd.DataFrame(df_codigos)\n",
        "frame[['Nombre Región', 'Nombre Provincia', 'Nombre Comuna']]"
      ],
      "execution_count": 18,
      "outputs": [
        {
          "output_type": "execute_result",
          "data": {
            "text/html": [
              "<div>\n",
              "<style scoped>\n",
              "    .dataframe tbody tr th:only-of-type {\n",
              "        vertical-align: middle;\n",
              "    }\n",
              "\n",
              "    .dataframe tbody tr th {\n",
              "        vertical-align: top;\n",
              "    }\n",
              "\n",
              "    .dataframe thead th {\n",
              "        text-align: right;\n",
              "    }\n",
              "</style>\n",
              "<table border=\"1\" class=\"dataframe\">\n",
              "  <thead>\n",
              "    <tr style=\"text-align: right;\">\n",
              "      <th></th>\n",
              "      <th>Nombre Región</th>\n",
              "      <th>Nombre Provincia</th>\n",
              "      <th>Nombre Comuna</th>\n",
              "    </tr>\n",
              "  </thead>\n",
              "  <tbody>\n",
              "    <tr>\n",
              "      <th>0</th>\n",
              "      <td>Tarapacá</td>\n",
              "      <td>Iquique</td>\n",
              "      <td>Iquique</td>\n",
              "    </tr>\n",
              "    <tr>\n",
              "      <th>1</th>\n",
              "      <td>Tarapacá</td>\n",
              "      <td>Iquique</td>\n",
              "      <td>Alto Hospicio</td>\n",
              "    </tr>\n",
              "    <tr>\n",
              "      <th>2</th>\n",
              "      <td>Tarapacá</td>\n",
              "      <td>Tamarugal</td>\n",
              "      <td>Pozo Almonte</td>\n",
              "    </tr>\n",
              "    <tr>\n",
              "      <th>3</th>\n",
              "      <td>Tarapacá</td>\n",
              "      <td>Tamarugal</td>\n",
              "      <td>Camiña</td>\n",
              "    </tr>\n",
              "    <tr>\n",
              "      <th>4</th>\n",
              "      <td>Tarapacá</td>\n",
              "      <td>Tamarugal</td>\n",
              "      <td>Colchane</td>\n",
              "    </tr>\n",
              "    <tr>\n",
              "      <th>...</th>\n",
              "      <td>...</td>\n",
              "      <td>...</td>\n",
              "      <td>...</td>\n",
              "    </tr>\n",
              "    <tr>\n",
              "      <th>341</th>\n",
              "      <td>Ñuble</td>\n",
              "      <td>Punilla</td>\n",
              "      <td>San Carlos</td>\n",
              "    </tr>\n",
              "    <tr>\n",
              "      <th>342</th>\n",
              "      <td>Ñuble</td>\n",
              "      <td>Punilla</td>\n",
              "      <td>Coihueco</td>\n",
              "    </tr>\n",
              "    <tr>\n",
              "      <th>343</th>\n",
              "      <td>Ñuble</td>\n",
              "      <td>Punilla</td>\n",
              "      <td>Ñiquén</td>\n",
              "    </tr>\n",
              "    <tr>\n",
              "      <th>344</th>\n",
              "      <td>Ñuble</td>\n",
              "      <td>Punilla</td>\n",
              "      <td>San Fabián</td>\n",
              "    </tr>\n",
              "    <tr>\n",
              "      <th>345</th>\n",
              "      <td>Ñuble</td>\n",
              "      <td>Punilla</td>\n",
              "      <td>San Nicolás</td>\n",
              "    </tr>\n",
              "  </tbody>\n",
              "</table>\n",
              "<p>346 rows × 3 columns</p>\n",
              "</div>"
            ],
            "text/plain": [
              "    Nombre Región Nombre Provincia  Nombre Comuna\n",
              "0        Tarapacá          Iquique        Iquique\n",
              "1        Tarapacá          Iquique  Alto Hospicio\n",
              "2        Tarapacá        Tamarugal   Pozo Almonte\n",
              "3        Tarapacá        Tamarugal         Camiña\n",
              "4        Tarapacá        Tamarugal       Colchane\n",
              "..            ...              ...            ...\n",
              "341         Ñuble          Punilla     San Carlos\n",
              "342         Ñuble          Punilla       Coihueco\n",
              "343         Ñuble          Punilla         Ñiquén\n",
              "344         Ñuble          Punilla     San Fabián\n",
              "345         Ñuble          Punilla    San Nicolás\n",
              "\n",
              "[346 rows x 3 columns]"
            ]
          },
          "metadata": {},
          "execution_count": 18
        }
      ]
    },
    {
      "cell_type": "markdown",
      "metadata": {
        "id": "TPWvysF2j-By"
      },
      "source": [
        "## Pregunta 2"
      ]
    },
    {
      "cell_type": "code",
      "metadata": {
        "id": "ntCapyaPj-By",
        "colab": {
          "base_uri": "https://localhost:8080/",
          "height": 419
        },
        "outputId": "8b92bfc1-5605-49f9-a60f-ef64b0b052b3"
      },
      "source": [
        "df_merge = df_codigos.merge(df_datos_comunas, left_on='Código Comuna 2018', right_on='id')\n",
        "df_merge\n",
        "df_merge = df_merge[['Nombre Región' , 'Nombre Provincia' , 'Nombre Comuna' , 'metros_plaza']]\n",
        "df_merge\n"
      ],
      "execution_count": 19,
      "outputs": [
        {
          "output_type": "execute_result",
          "data": {
            "text/html": [
              "<div>\n",
              "<style scoped>\n",
              "    .dataframe tbody tr th:only-of-type {\n",
              "        vertical-align: middle;\n",
              "    }\n",
              "\n",
              "    .dataframe tbody tr th {\n",
              "        vertical-align: top;\n",
              "    }\n",
              "\n",
              "    .dataframe thead th {\n",
              "        text-align: right;\n",
              "    }\n",
              "</style>\n",
              "<table border=\"1\" class=\"dataframe\">\n",
              "  <thead>\n",
              "    <tr style=\"text-align: right;\">\n",
              "      <th></th>\n",
              "      <th>Nombre Región</th>\n",
              "      <th>Nombre Provincia</th>\n",
              "      <th>Nombre Comuna</th>\n",
              "      <th>metros_plaza</th>\n",
              "    </tr>\n",
              "  </thead>\n",
              "  <tbody>\n",
              "    <tr>\n",
              "      <th>0</th>\n",
              "      <td>Tarapacá</td>\n",
              "      <td>Iquique</td>\n",
              "      <td>Iquique</td>\n",
              "      <td>58460.0</td>\n",
              "    </tr>\n",
              "    <tr>\n",
              "      <th>1</th>\n",
              "      <td>Tarapacá</td>\n",
              "      <td>Iquique</td>\n",
              "      <td>Alto Hospicio</td>\n",
              "      <td>130316.0</td>\n",
              "    </tr>\n",
              "    <tr>\n",
              "      <th>2</th>\n",
              "      <td>Tarapacá</td>\n",
              "      <td>Tamarugal</td>\n",
              "      <td>Pozo Almonte</td>\n",
              "      <td>NaN</td>\n",
              "    </tr>\n",
              "    <tr>\n",
              "      <th>3</th>\n",
              "      <td>Tarapacá</td>\n",
              "      <td>Tamarugal</td>\n",
              "      <td>Camiña</td>\n",
              "      <td>4050.0</td>\n",
              "    </tr>\n",
              "    <tr>\n",
              "      <th>4</th>\n",
              "      <td>Tarapacá</td>\n",
              "      <td>Tamarugal</td>\n",
              "      <td>Colchane</td>\n",
              "      <td>2532.0</td>\n",
              "    </tr>\n",
              "    <tr>\n",
              "      <th>...</th>\n",
              "      <td>...</td>\n",
              "      <td>...</td>\n",
              "      <td>...</td>\n",
              "      <td>...</td>\n",
              "    </tr>\n",
              "    <tr>\n",
              "      <th>340</th>\n",
              "      <td>Ñuble</td>\n",
              "      <td>Punilla</td>\n",
              "      <td>San Carlos</td>\n",
              "      <td>168800.0</td>\n",
              "    </tr>\n",
              "    <tr>\n",
              "      <th>341</th>\n",
              "      <td>Ñuble</td>\n",
              "      <td>Punilla</td>\n",
              "      <td>Coihueco</td>\n",
              "      <td>21282.0</td>\n",
              "    </tr>\n",
              "    <tr>\n",
              "      <th>342</th>\n",
              "      <td>Ñuble</td>\n",
              "      <td>Punilla</td>\n",
              "      <td>Ñiquén</td>\n",
              "      <td>21925.0</td>\n",
              "    </tr>\n",
              "    <tr>\n",
              "      <th>343</th>\n",
              "      <td>Ñuble</td>\n",
              "      <td>Punilla</td>\n",
              "      <td>San Fabián</td>\n",
              "      <td>9500.0</td>\n",
              "    </tr>\n",
              "    <tr>\n",
              "      <th>344</th>\n",
              "      <td>Ñuble</td>\n",
              "      <td>Punilla</td>\n",
              "      <td>San Nicolás</td>\n",
              "      <td>36300.0</td>\n",
              "    </tr>\n",
              "  </tbody>\n",
              "</table>\n",
              "<p>345 rows × 4 columns</p>\n",
              "</div>"
            ],
            "text/plain": [
              "    Nombre Región Nombre Provincia  Nombre Comuna  metros_plaza\n",
              "0        Tarapacá          Iquique        Iquique       58460.0\n",
              "1        Tarapacá          Iquique  Alto Hospicio      130316.0\n",
              "2        Tarapacá        Tamarugal   Pozo Almonte           NaN\n",
              "3        Tarapacá        Tamarugal         Camiña        4050.0\n",
              "4        Tarapacá        Tamarugal       Colchane        2532.0\n",
              "..            ...              ...            ...           ...\n",
              "340         Ñuble          Punilla     San Carlos      168800.0\n",
              "341         Ñuble          Punilla       Coihueco       21282.0\n",
              "342         Ñuble          Punilla         Ñiquén       21925.0\n",
              "343         Ñuble          Punilla     San Fabián        9500.0\n",
              "344         Ñuble          Punilla    San Nicolás       36300.0\n",
              "\n",
              "[345 rows x 4 columns]"
            ]
          },
          "metadata": {},
          "execution_count": 19
        }
      ]
    },
    {
      "cell_type": "markdown",
      "metadata": {
        "id": "6Y2IvJ-zj-By"
      },
      "source": [
        "## Pregunta 3"
      ]
    },
    {
      "cell_type": "code",
      "metadata": {
        "id": "XHntRTBTj-Bz",
        "colab": {
          "base_uri": "https://localhost:8080/"
        },
        "outputId": "924c88de-0d2b-45a2-923d-d4c204990fed"
      },
      "source": [
        "df_merge['metros_plaza'].groupby([df_merge['Nombre Región']]).sum()\n"
      ],
      "execution_count": 22,
      "outputs": [
        {
          "output_type": "execute_result",
          "data": {
            "text/plain": [
              "Nombre Región\n",
              "Antofagasta                                    772259.0\n",
              "Arica y Parinacota                             374154.0\n",
              "Atacama                                        400882.0\n",
              "Aysén del General Carlos Ibáñez del Campo      598899.0\n",
              "Biobío                                        4727900.0\n",
              "Coquimbo                                      2744037.0\n",
              "La Araucanía                                  1455345.0\n",
              "Libertador General Bernardo O'Higgins         4142980.0\n",
              "Los Lagos                                     2477329.0\n",
              "Los Ríos                                       592556.0\n",
              "Magallanes y de la Antártica Chilena           180613.0\n",
              "Maule                                         3190604.0\n",
              "Metropolitana de Santiago                    25364523.0\n",
              "Tarapacá                                       210583.0\n",
              "Valparaíso                                   42515154.0\n",
              "Ñuble                                         1287330.0\n",
              "Name: metros_plaza, dtype: float64"
            ]
          },
          "metadata": {},
          "execution_count": 22
        }
      ]
    },
    {
      "cell_type": "markdown",
      "metadata": {
        "id": "cUvDWrGPj-Bz"
      },
      "source": [
        "## Pregunta 4"
      ]
    },
    {
      "cell_type": "code",
      "metadata": {
        "id": "WEv5XBh9j-Bz",
        "colab": {
          "base_uri": "https://localhost:8080/"
        },
        "outputId": "b5af91da-e6d4-4a3c-8564-52b4d499d245"
      },
      "source": [
        "df_merge['metros_plaza'].groupby([df_merge['Nombre Región']]).sum().sort_values(ascending=False).head(1)\n"
      ],
      "execution_count": 24,
      "outputs": [
        {
          "output_type": "execute_result",
          "data": {
            "text/plain": [
              "Nombre Región\n",
              "Valparaíso    42515154.0\n",
              "Name: metros_plaza, dtype: float64"
            ]
          },
          "metadata": {},
          "execution_count": 24
        }
      ]
    },
    {
      "cell_type": "markdown",
      "metadata": {
        "id": "Z4AIMb-aj-Bz"
      },
      "source": [
        "## Pregunta 5"
      ]
    },
    {
      "cell_type": "code",
      "metadata": {
        "id": "XHNvaTScj-B0",
        "colab": {
          "base_uri": "https://localhost:8080/",
          "height": 419
        },
        "outputId": "abec5633-be23-48e5-e275-9b6070eb500a"
      },
      "source": [
        "df_presupuesto_2019 = df_presupuesto_2019.replace(\"No Recepcionado\", 0)\n",
        "df_presupuesto_2019[\"PRESUPUESTO\"] = df_presupuesto_2019[\"PRESUPUESTO\"].astype(int)\n",
        "df_merge = df_poblacion.merge(df_codigos.merge(df_presupuesto_2019, left_on=\"Código Comuna 2018\", right_on=\"CODIGO\"))\n",
        "\n",
        "df_merge = df_merge[[\"Nombre Comuna\", \"POBLACIÓN\", \"PRESUPUESTO\"]]\n",
        "df_merge\n"
      ],
      "execution_count": null,
      "outputs": [
        {
          "output_type": "execute_result",
          "data": {
            "text/html": [
              "<div>\n",
              "<style scoped>\n",
              "    .dataframe tbody tr th:only-of-type {\n",
              "        vertical-align: middle;\n",
              "    }\n",
              "\n",
              "    .dataframe tbody tr th {\n",
              "        vertical-align: top;\n",
              "    }\n",
              "\n",
              "    .dataframe thead th {\n",
              "        text-align: right;\n",
              "    }\n",
              "</style>\n",
              "<table border=\"1\" class=\"dataframe\">\n",
              "  <thead>\n",
              "    <tr style=\"text-align: right;\">\n",
              "      <th></th>\n",
              "      <th>Nombre Comuna</th>\n",
              "      <th>POBLACIÓN</th>\n",
              "      <th>PRESUPUESTO</th>\n",
              "    </tr>\n",
              "  </thead>\n",
              "  <tbody>\n",
              "    <tr>\n",
              "      <th>0</th>\n",
              "      <td>Iquique</td>\n",
              "      <td>216514</td>\n",
              "      <td>59072234</td>\n",
              "    </tr>\n",
              "    <tr>\n",
              "      <th>1</th>\n",
              "      <td>Alto Hospicio</td>\n",
              "      <td>124150</td>\n",
              "      <td>13984411</td>\n",
              "    </tr>\n",
              "    <tr>\n",
              "      <th>2</th>\n",
              "      <td>Pozo Almonte</td>\n",
              "      <td>16683</td>\n",
              "      <td>7613962</td>\n",
              "    </tr>\n",
              "    <tr>\n",
              "      <th>3</th>\n",
              "      <td>Camiña</td>\n",
              "      <td>1345</td>\n",
              "      <td>1584008</td>\n",
              "    </tr>\n",
              "    <tr>\n",
              "      <th>4</th>\n",
              "      <td>Colchane</td>\n",
              "      <td>1556</td>\n",
              "      <td>2500000</td>\n",
              "    </tr>\n",
              "    <tr>\n",
              "      <th>...</th>\n",
              "      <td>...</td>\n",
              "      <td>...</td>\n",
              "      <td>...</td>\n",
              "    </tr>\n",
              "    <tr>\n",
              "      <th>340</th>\n",
              "      <td>San Carlos</td>\n",
              "      <td>55935</td>\n",
              "      <td>10459691</td>\n",
              "    </tr>\n",
              "    <tr>\n",
              "      <th>341</th>\n",
              "      <td>Coihueco</td>\n",
              "      <td>28147</td>\n",
              "      <td>5001190</td>\n",
              "    </tr>\n",
              "    <tr>\n",
              "      <th>342</th>\n",
              "      <td>Ñiquén</td>\n",
              "      <td>11556</td>\n",
              "      <td>3386698</td>\n",
              "    </tr>\n",
              "    <tr>\n",
              "      <th>343</th>\n",
              "      <td>San Fabián</td>\n",
              "      <td>4607</td>\n",
              "      <td>1798500</td>\n",
              "    </tr>\n",
              "    <tr>\n",
              "      <th>344</th>\n",
              "      <td>San Nicolás</td>\n",
              "      <td>12068</td>\n",
              "      <td>3979700</td>\n",
              "    </tr>\n",
              "  </tbody>\n",
              "</table>\n",
              "<p>345 rows × 3 columns</p>\n",
              "</div>"
            ],
            "text/plain": [
              "     Nombre Comuna  POBLACIÓN  PRESUPUESTO\n",
              "0          Iquique     216514     59072234\n",
              "1    Alto Hospicio     124150     13984411\n",
              "2     Pozo Almonte      16683      7613962\n",
              "3           Camiña       1345      1584008\n",
              "4         Colchane       1556      2500000\n",
              "..             ...        ...          ...\n",
              "340     San Carlos      55935     10459691\n",
              "341       Coihueco      28147      5001190\n",
              "342         Ñiquén      11556      3386698\n",
              "343     San Fabián       4607      1798500\n",
              "344    San Nicolás      12068      3979700\n",
              "\n",
              "[345 rows x 3 columns]"
            ]
          },
          "metadata": {},
          "execution_count": 12
        }
      ]
    },
    {
      "cell_type": "markdown",
      "metadata": {
        "id": "SX43dOp7j-B0"
      },
      "source": [
        "## Pregunta 6"
      ]
    },
    {
      "cell_type": "code",
      "metadata": {
        "id": "RuqWCkZCj-B0",
        "colab": {
          "base_uri": "https://localhost:8080/"
        },
        "outputId": "a6b22bd8-37ea-414b-ced3-e67cb813d172"
      },
      "source": [
        "df_merge = df_codigos.merge(df_poblacion, left_on='Código Comuna 2018', right_on='CODIGO')\n",
        "\n",
        "df_merge[\"POBLACIÓN\"].groupby([df_merge['Nombre Región']]).sum()\n"
      ],
      "execution_count": null,
      "outputs": [
        {
          "output_type": "execute_result",
          "data": {
            "text/plain": [
              "Nombre Región\n",
              "Antofagasta                                   668563\n",
              "Arica y Parinacota                            247036\n",
              "Atacama                                       311307\n",
              "Aysén del General Carlos Ibáñez del Campo     106680\n",
              "Biobío                                       1654744\n",
              "Coquimbo                                      821726\n",
              "La Araucanía                                 1007965\n",
              "Libertador General Bernardo O'Higgins         978868\n",
              "Los Lagos                                     884464\n",
              "Los Ríos                                      403413\n",
              "Magallanes y de la Antártica Chilena          175853\n",
              "Maule                                        1118947\n",
              "Metropolitana de Santiago                    7915199\n",
              "Tarapacá                                      368906\n",
              "Valparaíso                                   1935455\n",
              "Ñuble                                         507959\n",
              "Name: POBLACIÓN, dtype: int64"
            ]
          },
          "metadata": {},
          "execution_count": 13
        }
      ]
    },
    {
      "cell_type": "markdown",
      "metadata": {
        "id": "920toSWwj-B1"
      },
      "source": [
        "## Pregunta 7"
      ]
    },
    {
      "cell_type": "code",
      "metadata": {
        "id": "bYIzyYLYj-B1",
        "colab": {
          "base_uri": "https://localhost:8080/"
        },
        "outputId": "49e53d77-0b59-4702-d620-9902d7dbe441"
      },
      "source": [
        "df_merge = df_codigos.merge(df_poblacion, left_on='Código Comuna 2018', right_on='CODIGO')\n",
        "\n",
        "df_merge[\"POBLACIÓN\"].groupby([df_merge['Nombre Provincia']]).sum()"
      ],
      "execution_count": null,
      "outputs": [
        {
          "output_type": "execute_result",
          "data": {
            "text/plain": [
              "Nombre Provincia\n",
              "Aisén                        32272\n",
              "Antofagasta                 439822\n",
              "Antártica Chilena             1976\n",
              "Arauco                      175897\n",
              "Arica                       243738\n",
              "Biobío                      420927\n",
              "Cachapoal                   695513\n",
              "Capitán Prat                  4882\n",
              "Cardenal Caro                48137\n",
              "Cauquenes                    61272\n",
              "Cautín                      793342\n",
              "Chacabuco                   315713\n",
              "Chañaral                     27531\n",
              "Chiloé                      180363\n",
              "Choapa                       93909\n",
              "Coihaique                    61741\n",
              "Colchagua                   235218\n",
              "Concepción                 1057920\n",
              "Copiapó                     202864\n",
              "Cordillera                  677634\n",
              "Curicó                      308798\n",
              "Diguillín                   339134\n",
              "El Loa                      194333\n",
              "Elqui                       545302\n",
              "General Carrera               7785\n",
              "Huasco                       80912\n",
              "Iquique                     340664\n",
              "Isla de Pascua                8073\n",
              "Itata                        56512\n",
              "Limarí                      182515\n",
              "Linares                     305131\n",
              "Llanquihue                  438088\n",
              "Los Andes                   114976\n",
              "Magallanes                  141297\n",
              "Maipo                       544731\n",
              "Malleco                     214623\n",
              "Marga Marga                 369725\n",
              "Melipilla                   208141\n",
              "Osorno                      246933\n",
              "Palena                       19080\n",
              "Parinacota                    3298\n",
              "Petorca                      82444\n",
              "Punilla                     112313\n",
              "Quillota                    216452\n",
              "Ranco                        97849\n",
              "San Antonio                 178749\n",
              "San Felipe de Aconcagua     164741\n",
              "Santiago                   5838768\n",
              "Talagante                   330212\n",
              "Talca                       443746\n",
              "Tamarugal                    28242\n",
              "Tierra del Fuego              8169\n",
              "Tocopilla                    34408\n",
              "Valdivia                    305564\n",
              "Valparaíso                  800295\n",
              "Última Esperanza             24411\n",
              "Name: POBLACIÓN, dtype: int64"
            ]
          },
          "metadata": {},
          "execution_count": 14
        }
      ]
    }
  ]
}